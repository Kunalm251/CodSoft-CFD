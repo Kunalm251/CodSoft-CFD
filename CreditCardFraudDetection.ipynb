{
  "nbformat": 4,
  "nbformat_minor": 0,
  "metadata": {
    "colab": {
      "provenance": [],
      "authorship_tag": "ABX9TyM+VHkuo2ga6wWQvvY4UHfE",
      "include_colab_link": true
    },
    "kernelspec": {
      "name": "python3",
      "display_name": "Python 3"
    },
    "language_info": {
      "name": "python"
    }
  },
  "cells": [
    {
      "cell_type": "markdown",
      "metadata": {
        "id": "view-in-github",
        "colab_type": "text"
      },
      "source": [
        "<a href=\"https://colab.research.google.com/github/Kunalm251/CodSoft-CFD/blob/main/CreditCardFraudDetection.ipynb\" target=\"_parent\"><img src=\"https://colab.research.google.com/assets/colab-badge.svg\" alt=\"Open In Colab\"/></a>"
      ]
    },
    {
      "cell_type": "code",
      "execution_count": null,
      "metadata": {
        "colab": {
          "base_uri": "https://localhost:8080/"
        },
        "id": "eO_j1LbKXmwk",
        "outputId": "a0d12b54-b516-4d95-cd3b-4bc31565cff2"
      },
      "outputs": [
        {
          "output_type": "stream",
          "name": "stdout",
          "text": [
            "0.9504447268106735\n",
            "0.9137055837563451\n"
          ]
        }
      ],
      "source": [
        "from re import sub\n",
        "import numpy as np\n",
        "import pandas as pd\n",
        "from sklearn.model_selection import train_test_split\n",
        "from sklearn.linear_model import LogisticRegression\n",
        "from sklearn.metrics import accuracy_score\n",
        "import streamlit as st\n",
        "\n",
        "Credited_card_df = pd.read_csv('creditcard.csv')\n",
        "Credited_card_df.head()\n",
        "\n",
        "Credited_card_df.shape\n",
        "\n",
        "Credited_card_df ['Class'].value_counts()\n",
        "Credited_card_df.describe()\n",
        "\n",
        "legit = Credited_card_df[Credited_card_df.Class == 0]\n",
        "fraud = Credited_card_df[Credited_card_df.Class == 1]\n",
        "\n",
        "legit_sample = legit.sample(n= len(fraud))\n",
        "Credited_card_df = pd.concat([legit_sample, fraud], axis=0)\n",
        "Credited_card_df['Class'].value_counts()\n",
        "Credited_card_df.groupby('Class').mean\n",
        "\n",
        "x= Credited_card_df.drop(columns='Class', axis=1)\n",
        "y= Credited_card_df['Class']\n",
        "\n",
        "x_train, x_test, y_train, y_test = train_test_split(x, y, test_size=0.2, stratify=y, random_state=2)\n",
        "\n",
        "\n",
        "model = LogisticRegression()\n",
        "model.fit(x_train, y_train)\n",
        "\n",
        "y_pred = model.predict(x_test)\n",
        "accuracy_score(y_test, y_pred)\n",
        "\n",
        "train_acc = accuracy_score(y_train, model.predict(x_train))\n",
        "test_acc = accuracy_score(y_test, model.predict(x_test))\n",
        "print(train_acc)\n",
        "print(test_acc)\n",
        "\n",
        "\n",
        "st.title('Credit Card Fraud Detection')\n",
        "st.header('Enter the details below')\n",
        "input_df = st.text_input('Enter the input values')\n",
        "input_df_splited = input_df.split(',')\n",
        "\n",
        "submit = st.button('Submit')\n",
        "\n",
        "if submit:\n",
        "  value = np.asarray(input_df_splited, dtype=np.float64)\n",
        "  prediction = model.predict(value.reshape(1, -1))\n",
        "  if prediction[0] == 0:\n",
        "    st.success('The transaction is legit')\n",
        "  else:\n",
        "    st.error('The transaction is fraud')\n",
        "\n",
        "st.write('Thank you for using our app')"
      ]
    }
  ]
}